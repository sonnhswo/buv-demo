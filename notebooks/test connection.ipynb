{
 "cells": [
  {
   "cell_type": "code",
   "execution_count": 1,
   "id": "ace685a8-a9a3-424e-91b9-e300e24e33de",
   "metadata": {},
   "outputs": [
    {
     "data": {
      "text/plain": [
       "True"
      ]
     },
     "execution_count": 1,
     "metadata": {},
     "output_type": "execute_result"
    }
   ],
   "source": [
    "import os\n",
    "from dotenv import load_dotenv, find_dotenv\n",
    "\n",
    "load_dotenv(find_dotenv('../.env'))"
   ]
  },
  {
   "cell_type": "code",
   "execution_count": 2,
   "id": "227800d2-c32b-4a15-8671-2e7248abe2e8",
   "metadata": {},
   "outputs": [],
   "source": [
    "from langchain_core.documents.base import Document"
   ]
  },
  {
   "cell_type": "code",
   "execution_count": 3,
   "id": "58e23bce-0a61-42cd-8150-4c893a2b3443",
   "metadata": {},
   "outputs": [],
   "source": [
    "# from langchain_openai.embeddings import OpenAIEmbeddings\n",
    "from langchain.vectorstores.pgvector import PGVector\n",
    "\n",
    "# # use Azure OpenAI\n",
    "# from langchain_openai import AzureOpenAIEmbeddings"
   ]
  },
  {
   "cell_type": "code",
   "execution_count": 4,
   "id": "7dc7bc71-c27e-40d9-8d99-10afa0a70d94",
   "metadata": {},
   "outputs": [],
   "source": [
    "from langchain.indexes import SQLRecordManager, index"
   ]
  },
  {
   "cell_type": "code",
   "execution_count": 5,
   "id": "230075c7-b8c9-4d80-b50b-43429f4f439b",
   "metadata": {},
   "outputs": [],
   "source": [
    "import pandas as pd"
   ]
  },
  {
   "cell_type": "code",
   "execution_count": 6,
   "id": "76079471-095a-4fa6-a290-50e23be4f293",
   "metadata": {},
   "outputs": [],
   "source": [
    "# Thay thế {spreadsheet_id} và {gid} bằng giá trị thực của bạn\n",
    "spreadsheet_id = '1heJgK2PGjMpCejkOEOGEFNNo8h7bRujWyOopTES9JR8'\n",
    "# gid = '0' # AUB\n",
    "gid = '1397755672' # US\n",
    "\n",
    "# Tạo URL đúng\n",
    "url = f'https://docs.google.com/spreadsheets/d/{spreadsheet_id}/export?format=csv&gid={gid}'\n",
    "\n",
    "# Đọc dữ liệu từ Google Sheet\n",
    "df = pd.read_csv(url)\n"
   ]
  },
  {
   "cell_type": "code",
   "execution_count": 7,
   "id": "d2a57c02-a541-41b6-a38a-e4c7eddc27c8",
   "metadata": {},
   "outputs": [
    {
     "data": {
      "text/html": [
       "<div>\n",
       "<style scoped>\n",
       "    .dataframe tbody tr th:only-of-type {\n",
       "        vertical-align: middle;\n",
       "    }\n",
       "\n",
       "    .dataframe tbody tr th {\n",
       "        vertical-align: top;\n",
       "    }\n",
       "\n",
       "    .dataframe thead th {\n",
       "        text-align: right;\n",
       "    }\n",
       "</style>\n",
       "<table border=\"1\" class=\"dataframe\">\n",
       "  <thead>\n",
       "    <tr style=\"text-align: right;\">\n",
       "      <th></th>\n",
       "      <th>question</th>\n",
       "      <th>answer</th>\n",
       "    </tr>\n",
       "  </thead>\n",
       "  <tbody>\n",
       "    <tr>\n",
       "      <th>0</th>\n",
       "      <td>In the students’ timetable, I have seen that t...</td>\n",
       "      <td>Besides lectures and tutorial sessions, studen...</td>\n",
       "    </tr>\n",
       "    <tr>\n",
       "      <th>1</th>\n",
       "      <td>How can students improve their English if stud...</td>\n",
       "      <td>Improving students’ English skills is a top pr...</td>\n",
       "    </tr>\n",
       "  </tbody>\n",
       "</table>\n",
       "</div>"
      ],
      "text/plain": [
       "                                            question  \\\n",
       "0  In the students’ timetable, I have seen that t...   \n",
       "1  How can students improve their English if stud...   \n",
       "\n",
       "                                              answer  \n",
       "0  Besides lectures and tutorial sessions, studen...  \n",
       "1  Improving students’ English skills is a top pr...  "
      ]
     },
     "execution_count": 7,
     "metadata": {},
     "output_type": "execute_result"
    }
   ],
   "source": [
    "df.head()"
   ]
  },
  {
   "cell_type": "code",
   "execution_count": null,
   "id": "4d1f3a88-c1f8-4172-9201-7626272056b7",
   "metadata": {
    "scrolled": true
   },
   "outputs": [],
   "source": []
  },
  {
   "cell_type": "code",
   "execution_count": 8,
   "id": "ad406880-03d0-44cd-b098-940dcdc72d51",
   "metadata": {},
   "outputs": [
    {
     "data": {
      "text/html": [
       "<div>\n",
       "<style scoped>\n",
       "    .dataframe tbody tr th:only-of-type {\n",
       "        vertical-align: middle;\n",
       "    }\n",
       "\n",
       "    .dataframe tbody tr th {\n",
       "        vertical-align: top;\n",
       "    }\n",
       "\n",
       "    .dataframe thead th {\n",
       "        text-align: right;\n",
       "    }\n",
       "</style>\n",
       "<table border=\"1\" class=\"dataframe\">\n",
       "  <thead>\n",
       "    <tr style=\"text-align: right;\">\n",
       "      <th></th>\n",
       "      <th>question</th>\n",
       "      <th>answer</th>\n",
       "    </tr>\n",
       "  </thead>\n",
       "  <tbody>\n",
       "    <tr>\n",
       "      <th>0</th>\n",
       "      <td>In the students’ timetable, I have seen that t...</td>\n",
       "      <td>Besides lectures and tutorial sessions, studen...</td>\n",
       "    </tr>\n",
       "    <tr>\n",
       "      <th>1</th>\n",
       "      <td>How can students improve their English if stud...</td>\n",
       "      <td>Improving students’ English skills is a top pr...</td>\n",
       "    </tr>\n",
       "  </tbody>\n",
       "</table>\n",
       "</div>"
      ],
      "text/plain": [
       "                                            question  \\\n",
       "0  In the students’ timetable, I have seen that t...   \n",
       "1  How can students improve their English if stud...   \n",
       "\n",
       "                                              answer  \n",
       "0  Besides lectures and tutorial sessions, studen...  \n",
       "1  Improving students’ English skills is a top pr...  "
      ]
     },
     "execution_count": 8,
     "metadata": {},
     "output_type": "execute_result"
    }
   ],
   "source": [
    "df.fillna(\"\", inplace=True)\n",
    "df.head()"
   ]
  },
  {
   "cell_type": "code",
   "execution_count": null,
   "id": "e202fbf5-2327-4181-932a-5f44e2a04427",
   "metadata": {},
   "outputs": [],
   "source": []
  },
  {
   "cell_type": "code",
   "execution_count": 9,
   "id": "3efaf4d1-1eab-45ee-9c6a-2b139332bd2e",
   "metadata": {},
   "outputs": [],
   "source": [
    "data = [\n",
    "    Document(\n",
    "        page_content=row['question'], \n",
    "        metadata={\n",
    "            'answer': row['answer'],\n",
    "            # 'url': row['url_zalo'],\n",
    "            # 'url_bus_image': row['url_bus_image'], \n",
    "            # 'url_link': row['url_link'], \n",
    "            # 'url_link2': row['url_link2']\n",
    "        }\n",
    "    )\n",
    "    for index, row in df.iterrows()\n",
    "]"
   ]
  },
  {
   "cell_type": "code",
   "execution_count": 10,
   "id": "54f10552-ad11-42d1-904e-93896fd3a268",
   "metadata": {},
   "outputs": [
    {
     "data": {
      "text/plain": [
       "Document(metadata={'answer': 'Besides lectures and tutorial sessions, students will be required to engage in at least 10 hours of self-study per subject each week. This will include a considerable amount of time reading required textbooks, studying, and evaluating hand-outs, working on homework assignments, preparing for class work, revising for tests, and working in groups with fellow students on various projects. This requires students to learn to keep a strict time management plan which is essential to their engagement and success on the programme.'}, page_content='In the students’ timetable, I have seen that the students study about 2-4 hours a day only. Should this be enough to ensure quality and what should students do besides class time?')"
      ]
     },
     "execution_count": 10,
     "metadata": {},
     "output_type": "execute_result"
    }
   ],
   "source": [
    "data[0]"
   ]
  },
  {
   "cell_type": "code",
   "execution_count": null,
   "id": "517aaf15-9900-4f6e-9b0d-ea851c5d9d72",
   "metadata": {},
   "outputs": [],
   "source": []
  },
  {
   "cell_type": "markdown",
   "id": "f7ffa3da-4812-4144-986a-0835e77c5f59",
   "metadata": {},
   "source": [
    "#### connect to pgvector db and upload doc"
   ]
  },
  {
   "cell_type": "code",
   "execution_count": 11,
   "id": "3eb2d3ff-9ca6-410a-be45-a52901c50fc5",
   "metadata": {},
   "outputs": [],
   "source": [
    "host = os.getenv(\"DEMO_PG_VECTOR_HOST\")\n",
    "user = os.getenv(\"DEMO_PG_VECTOR_USER\")\n",
    "password = os.getenv(\"DEMO_PG_VECTOR_PASSWORD\")"
   ]
  },
  {
   "cell_type": "code",
   "execution_count": 12,
   "id": "c420cffa-d52e-4966-89a2-cf56d3409324",
   "metadata": {},
   "outputs": [],
   "source": [
    "# database = os.getenv(\"DEMO_DATABASE_AUB_FREQUENTLYASKEDQUESTION\") # AUB \n",
    "database = os.getenv(\"DEMO_DATABASE_US_FREQUENTLYASKEDQUESTION\") # US"
   ]
  },
  {
   "cell_type": "code",
   "execution_count": null,
   "id": "4a6266dc-fa43-4911-99c1-381c16c0c101",
   "metadata": {},
   "outputs": [],
   "source": []
  },
  {
   "cell_type": "code",
   "execution_count": 13,
   "id": "d5de56da-d841-4df7-a3ed-765d7786d937",
   "metadata": {},
   "outputs": [],
   "source": [
    "COLLECTION_NAME = \"buv_demo_collection\""
   ]
  },
  {
   "cell_type": "code",
   "execution_count": 14,
   "id": "c10b13ba-8264-4386-8508-42bb61724f1d",
   "metadata": {},
   "outputs": [],
   "source": [
    "CONNECTION_STRING = f\"postgresql+psycopg2://{user}:{password}@{host}:5432/{database}\"\n",
    "# CONNECTION_STRING"
   ]
  },
  {
   "cell_type": "code",
   "execution_count": null,
   "id": "b72b8875-3a52-4e13-b0e9-46d867d0c8b2",
   "metadata": {},
   "outputs": [],
   "source": []
  },
  {
   "cell_type": "code",
   "execution_count": 15,
   "id": "cece3e59-736b-44a9-ba4e-0df57b530aa2",
   "metadata": {},
   "outputs": [],
   "source": [
    "import sys\n",
    "project_path = os.path.abspath(os.path.join('..'))\n",
    "sys.path.append(project_path)"
   ]
  },
  {
   "cell_type": "code",
   "execution_count": 16,
   "id": "e92f8f87-3a6d-43b7-a3b4-4180ccadf270",
   "metadata": {},
   "outputs": [],
   "source": [
    "from models.chat import azure_openai\n",
    "from models.embeddings import text_embedding_3large"
   ]
  },
  {
   "cell_type": "code",
   "execution_count": 17,
   "id": "469d53d8-ce6a-4a4d-bd3c-d36b6b1ba0cf",
   "metadata": {
    "scrolled": true
   },
   "outputs": [
    {
     "name": "stderr",
     "output_type": "stream",
     "text": [
      "C:\\Users\\vnt17\\AppData\\Local\\Temp\\ipykernel_31820\\1767837163.py:1: LangChainPendingDeprecationWarning: This class is pending deprecation and may be removed in a future version. You can swap to using the `PGVector` implementation in `langchain_postgres`. Please read the guidelines in the doc-string of this class to follow prior to migrating as there are some differences between the implementations. See <https://github.com/langchain-ai/langchain-postgres> for details aboutthe new implementation.\n",
      "  vector_store = PGVector(\n",
      "C:\\Users\\vnt17\\AppData\\Local\\Temp\\ipykernel_31820\\1767837163.py:1: LangChainPendingDeprecationWarning: Please use JSONB instead of JSON for metadata. This change will allow for more efficient querying that involves filtering based on metadata.Please note that filtering operators have been changed when using JSOB metadata to be prefixed with a $ sign to avoid name collisions with columns. If you're using an existing database, you will need to create adb migration for your metadata column to be JSONB and update your queries to use the new operators. \n",
      "  vector_store = PGVector(\n"
     ]
    }
   ],
   "source": [
    "vector_store = PGVector(\n",
    "    embedding_function=text_embedding_3large,\n",
    "    # embedding_function=embeddings,\n",
    "    collection_name=COLLECTION_NAME,\n",
    "    connection_string=CONNECTION_STRING,\n",
    ")"
   ]
  },
  {
   "cell_type": "markdown",
   "id": "ae6a4690-acc3-4454-8f0e-c79ab2d351cd",
   "metadata": {},
   "source": [
    "##### upload and update db"
   ]
  },
  {
   "cell_type": "code",
   "execution_count": 30,
   "id": "d6633842-f43d-42aa-aaf2-fbfd712b78c2",
   "metadata": {},
   "outputs": [],
   "source": [
    "namespace = f\"pgvector/{COLLECTION_NAME}\"\n",
    "record_manager = SQLRecordManager(\n",
    "    namespace, db_url=CONNECTION_STRING\n",
    ")"
   ]
  },
  {
   "cell_type": "code",
   "execution_count": 31,
   "id": "24dd4df8-41bb-48bd-abf9-57a5ca98144e",
   "metadata": {},
   "outputs": [],
   "source": [
    "record_manager.create_schema()"
   ]
  },
  {
   "cell_type": "code",
   "execution_count": 32,
   "id": "fd8f2d08-49ef-4d55-b131-0ed6682b42ee",
   "metadata": {},
   "outputs": [
    {
     "data": {
      "text/plain": [
       "{'num_added': 2, 'num_updated': 0, 'num_skipped': 0, 'num_deleted': 0}"
      ]
     },
     "execution_count": 32,
     "metadata": {},
     "output_type": "execute_result"
    }
   ],
   "source": [
    "index(\n",
    "    data,\n",
    "    record_manager,\n",
    "    vector_store,\n",
    "    cleanup=\"full\",\n",
    "    source_id_key=\"answer\",\n",
    ")"
   ]
  },
  {
   "cell_type": "code",
   "execution_count": null,
   "id": "00c479d9-84dd-4f4d-9ba3-7c726b69449f",
   "metadata": {},
   "outputs": [],
   "source": []
  },
  {
   "cell_type": "markdown",
   "id": "a53cbc03-cc70-443a-a430-f1c1161c8237",
   "metadata": {},
   "source": [
    "##### retriever"
   ]
  },
  {
   "cell_type": "code",
   "execution_count": 18,
   "id": "ab82f215-4834-42f9-98ff-fbe2996b003d",
   "metadata": {},
   "outputs": [],
   "source": [
    "retriever = vector_store.as_retriever(\n",
    "    search_type=\"similarity_score_threshold\",\n",
    "    search_kwargs={\n",
    "        \"k\": 1,\n",
    "        \"score_threshold\": 0.5\n",
    "    }          \n",
    ")"
   ]
  },
  {
   "cell_type": "code",
   "execution_count": null,
   "id": "e2d9321f-da5c-4138-8218-8fa23341d010",
   "metadata": {},
   "outputs": [],
   "source": []
  },
  {
   "cell_type": "code",
   "execution_count": 19,
   "id": "ccc090c4-97cd-48ce-94b4-8a3d663547fe",
   "metadata": {},
   "outputs": [],
   "source": [
    "# question = \"how can i get timetable?\" # aub\n",
    "question = \"How can students improve their English if students/parents would like to enhance their English skills?\""
   ]
  },
  {
   "cell_type": "code",
   "execution_count": 20,
   "id": "f1994fa3-a5b6-451f-802f-718130e47261",
   "metadata": {},
   "outputs": [
    {
     "name": "stderr",
     "output_type": "stream",
     "text": [
      "C:\\Users\\vnt17\\AppData\\Local\\Temp\\ipykernel_31820\\3022424715.py:1: LangChainDeprecationWarning: The method `BaseRetriever.get_relevant_documents` was deprecated in langchain-core 0.1.46 and will be removed in 1.0. Use invoke instead.\n",
      "  retrieved = retriever.get_relevant_documents(question)\n"
     ]
    },
    {
     "data": {
      "text/plain": [
       "[Document(metadata={'answer': 'Improving students’ English skills is a top priority at BUV, as our data shows that students with higher English proficiency tend to achieve better academic results. Our dedicated English Department offers a variety of support services to help students enhance their language abilities.'}, page_content='How can students improve their English if students/parents would like to enhance their English skills?\\xa0')]"
      ]
     },
     "execution_count": 20,
     "metadata": {},
     "output_type": "execute_result"
    }
   ],
   "source": [
    "retrieved = retriever.get_relevant_documents(question)\n",
    "retrieved"
   ]
  },
  {
   "cell_type": "code",
   "execution_count": 21,
   "id": "fd5c28d7-77ff-4a52-a522-284ef065e21a",
   "metadata": {},
   "outputs": [
    {
     "data": {
      "text/plain": [
       "'Improving students’ English skills is a top priority at BUV, as our data shows that students with higher English proficiency tend to achieve better academic results. Our dedicated English Department offers a variety of support services to help students enhance their language abilities.'"
      ]
     },
     "execution_count": 21,
     "metadata": {},
     "output_type": "execute_result"
    }
   ],
   "source": [
    "# retrieved[0].page_content\n",
    "retrieved[0].metadata[\"answer\"]"
   ]
  },
  {
   "cell_type": "code",
   "execution_count": null,
   "id": "4eb645e6-59ce-478e-a7c3-5068931ab517",
   "metadata": {},
   "outputs": [],
   "source": []
  },
  {
   "cell_type": "markdown",
   "id": "5e30c296-0ef9-4b96-a0e4-d55325e53286",
   "metadata": {},
   "source": [
    "### memory conversation"
   ]
  },
  {
   "cell_type": "code",
   "execution_count": 22,
   "id": "348fc8c7-6823-429f-a890-220111314bb0",
   "metadata": {},
   "outputs": [],
   "source": [
    "from langchain.chains.conversation.memory import ConversationBufferMemory\n",
    "from langchain.chains import ConversationChain"
   ]
  },
  {
   "cell_type": "code",
   "execution_count": 23,
   "id": "33a29966-e9dd-464b-9afb-85cbf914a57c",
   "metadata": {},
   "outputs": [],
   "source": [
    "from langchain_core.prompts.base import BasePromptTemplate"
   ]
  },
  {
   "cell_type": "code",
   "execution_count": 24,
   "id": "23c93e4a-3be8-4980-8faa-360c9e389b73",
   "metadata": {},
   "outputs": [],
   "source": [
    "from langchain.prompts import PromptTemplate"
   ]
  },
  {
   "cell_type": "code",
   "execution_count": 40,
   "id": "a95d9531-9e19-4c1b-9a32-b9b84215de93",
   "metadata": {},
   "outputs": [],
   "source": [
    "# prompt_template = BasePromptTemplate(\n",
    "prompt_template = PromptTemplate(\n",
    "    input_variables=['history', 'input'], \n",
    "    template=\"\"\"The following is a friendly conversation between a human and an AI. \\\n",
    "    The AI is talkative and provides lots of specific details from its context. \\\n",
    "    If the AI does not know the answer to a question, it truthfully says it does not know.\\n\\n\\\n",
    "    always add 'yo dude' at the end of your answer\\n\\n\n",
    "    Current conversation:\\n{history}\\nHuman: {input}\\nAI:\"\"\"\n",
    ")"
   ]
  },
  {
   "cell_type": "code",
   "execution_count": null,
   "id": "7a1ffac6-99b6-4f3a-8a4d-173baa3f0202",
   "metadata": {},
   "outputs": [],
   "source": []
  },
  {
   "cell_type": "code",
   "execution_count": 41,
   "id": "19d83044-a892-4b01-8764-da5f0683c689",
   "metadata": {
    "scrolled": true
   },
   "outputs": [
    {
     "name": "stderr",
     "output_type": "stream",
     "text": [
      "C:\\Users\\vnt17\\AppData\\Local\\Temp\\ipykernel_15472\\2329443293.py:1: LangChainDeprecationWarning: The class `ConversationChain` was deprecated in LangChain 0.2.7 and will be removed in 1.0. Use RunnableWithMessageHistory: https://python.langchain.com/v0.2/api_reference/core/runnables/langchain_core.runnables.history.RunnableWithMessageHistory.html instead.\n",
      "  conversation_buf = ConversationChain(\n"
     ]
    }
   ],
   "source": [
    "conversation_buf = ConversationChain(\n",
    "    llm=azure_openai,\n",
    "    memory=ConversationBufferMemory(),\n",
    "    prompt=prompt_template\n",
    ")"
   ]
  },
  {
   "cell_type": "code",
   "execution_count": 42,
   "id": "c310eda6-07c9-49d8-ad02-790204fb394f",
   "metadata": {},
   "outputs": [
    {
     "name": "stderr",
     "output_type": "stream",
     "text": [
      "C:\\Users\\vnt17\\AppData\\Local\\Temp\\ipykernel_15472\\67019879.py:1: LangChainDeprecationWarning: The method `Chain.__call__` was deprecated in langchain 0.1.0 and will be removed in 1.0. Use invoke instead.\n",
      "  conversation_buf(\"Good morning! My name is Ngoc\")\n"
     ]
    },
    {
     "data": {
      "text/plain": [
       "{'input': 'Good morning! My name is Ngoc',\n",
       " 'history': '',\n",
       " 'response': 'Good morning, Ngoc! How can I assist you today? Yo dude.'}"
      ]
     },
     "execution_count": 42,
     "metadata": {},
     "output_type": "execute_result"
    }
   ],
   "source": [
    "conversation_buf(\"Good morning! My name is Ngoc\")"
   ]
  },
  {
   "cell_type": "code",
   "execution_count": null,
   "id": "e3923763-54c8-4d80-8f8f-a4e4fbbc1591",
   "metadata": {},
   "outputs": [],
   "source": []
  },
  {
   "cell_type": "markdown",
   "id": "14215e83-7f7d-420d-9e2e-ea30737be962",
   "metadata": {},
   "source": [
    "##### another test"
   ]
  },
  {
   "cell_type": "code",
   "execution_count": 25,
   "id": "dd9a176f-7740-423b-8da8-e8db226fbdc0",
   "metadata": {},
   "outputs": [],
   "source": [
    "retrieved = retriever.get_relevant_documents(question)"
   ]
  },
  {
   "cell_type": "code",
   "execution_count": 26,
   "id": "6fe5f929-e1a7-4c5f-b783-150451c48da1",
   "metadata": {},
   "outputs": [
    {
     "data": {
      "text/plain": [
       "'Improving students’ English skills is a top priority at BUV, as our data shows that students with higher English proficiency tend to achieve better academic results. Our dedicated English Department offers a variety of support services to help students enhance their language abilities.\\n'"
      ]
     },
     "execution_count": 26,
     "metadata": {},
     "output_type": "execute_result"
    }
   ],
   "source": [
    "combine_doc = \"\"\n",
    "for i in retrieved:\n",
    "    combine_doc = combine_doc + str(i.metadata[\"answer\"]) + \"\\n\"\n",
    "combine_doc"
   ]
  },
  {
   "cell_type": "code",
   "execution_count": null,
   "id": "e3821d29-c0f5-4385-bb5f-e0e2b6a974df",
   "metadata": {},
   "outputs": [],
   "source": []
  },
  {
   "cell_type": "code",
   "execution_count": 32,
   "id": "e7db81ce-6ed1-4a47-88a1-8acf4ed3e512",
   "metadata": {},
   "outputs": [],
   "source": [
    "template = f\"\"\"You are a chatbot specialized in answering frequently asked questions from customers about the student shuttle bus service \\\n",
    "provided by BUV.\\n\n",
    "\n",
    "Use exactly this following information as your answer: {combine_doc}\n",
    "\n",
    "Current conversation:\\n{{history}}\\n\n",
    "Human: {{input}}\\nAI:\"\"\"\n"
   ]
  },
  {
   "cell_type": "code",
   "execution_count": null,
   "id": "24eac08c-3e82-47a3-b94a-45a5c562f2d7",
   "metadata": {},
   "outputs": [],
   "source": []
  },
  {
   "cell_type": "code",
   "execution_count": 33,
   "id": "5305dc57-23f9-4c93-8d53-489e1a73f14a",
   "metadata": {},
   "outputs": [
    {
     "name": "stdout",
     "output_type": "stream",
     "text": [
      "You are a chatbot specialized in answering frequently asked questions from customers about the student shuttle bus service provided by BUV.\n",
      "\n",
      "\n",
      "Use exactly this following information as your answer: Improving students’ English skills is a top priority at BUV, as our data shows that students with higher English proficiency tend to achieve better academic results. Our dedicated English Department offers a variety of support services to help students enhance their language abilities.\n",
      "\n",
      "\n",
      "Current conversation:\n",
      "{history}\n",
      "\n",
      "Human: {input}\n",
      "AI:\n"
     ]
    }
   ],
   "source": [
    "print(template)"
   ]
  },
  {
   "cell_type": "code",
   "execution_count": 34,
   "id": "0dd4ef8b-f314-455a-8677-c46c6d6bc730",
   "metadata": {},
   "outputs": [],
   "source": [
    "# prompt_template = BasePromptTemplate(\n",
    "prompt_template = PromptTemplate(\n",
    "    input_variables=['history', 'input'], \n",
    "    template=template\n",
    ")"
   ]
  },
  {
   "cell_type": "code",
   "execution_count": null,
   "id": "0317a0d6-280b-4dd8-8cec-13fb7dd27874",
   "metadata": {},
   "outputs": [],
   "source": []
  },
  {
   "cell_type": "code",
   "execution_count": null,
   "id": "83b7a64e-8f3a-45e8-8b55-a3228db3d526",
   "metadata": {},
   "outputs": [],
   "source": []
  },
  {
   "cell_type": "code",
   "execution_count": 35,
   "id": "dc1e6ca7-ced3-42c2-9907-55571e8307e4",
   "metadata": {
    "scrolled": true
   },
   "outputs": [],
   "source": [
    "conversation_buf = ConversationChain(\n",
    "    llm=azure_openai,\n",
    "    memory=ConversationBufferMemory(),\n",
    "    prompt=prompt_template,\n",
    "    # input_types={\n",
    "    #     \"combine_doc\": combine_doc\n",
    "    # }\n",
    ")"
   ]
  },
  {
   "cell_type": "code",
   "execution_count": 36,
   "id": "ecea01f1-e8cf-4696-b077-2ecd0bc8470f",
   "metadata": {},
   "outputs": [
    {
     "data": {
      "text/plain": [
       "{'input': 'How can students improve their English if students/parents would like to enhance their English skills?',\n",
       " 'history': '',\n",
       " 'response': 'Improving students’ English skills is a top priority at BUV. Our dedicated English Department offers a variety of support services to help students enhance their language abilities. These services include English language courses, workshops, and tutoring sessions. Additionally, we provide access to online resources and language learning software to supplement classroom learning. Students and parents can also participate in English language immersion programs and cultural exchange activities to further improve their language skills.'}"
      ]
     },
     "execution_count": 36,
     "metadata": {},
     "output_type": "execute_result"
    }
   ],
   "source": [
    "conversation_buf(question)"
   ]
  },
  {
   "cell_type": "code",
   "execution_count": 37,
   "id": "b4d99fc7-cef9-42ec-bff1-5d0ca0680cfe",
   "metadata": {},
   "outputs": [
    {
     "data": {
      "text/plain": [
       "{'input': 'how to receive it?',\n",
       " 'history': 'Human: How can students improve their English if students/parents would like to enhance their English skills?\\nAI: Improving students’ English skills is a top priority at BUV. Our dedicated English Department offers a variety of support services to help students enhance their language abilities. These services include English language courses, workshops, and tutoring sessions. Additionally, we provide access to online resources and language learning software to supplement classroom learning. Students and parents can also participate in English language immersion programs and cultural exchange activities to further improve their language skills.',\n",
       " 'response': \"To receive the support services offered by our English Department, students and parents can reach out to the department directly. They can inquire about English language courses, workshops, and tutoring sessions, and express their interest in participating. The department will provide information on the available options and guide students and parents through the registration process. Additionally, access to online resources and language learning software can be provided through the department's online platform or through designated accounts. Information about English language immersion programs and cultural exchange activities will be communicated to students and parents through announcements and newsletters.\"}"
      ]
     },
     "execution_count": 37,
     "metadata": {},
     "output_type": "execute_result"
    }
   ],
   "source": [
    "# conversation_buf(\"how to receive it?\")"
   ]
  },
  {
   "cell_type": "code",
   "execution_count": null,
   "id": "1506a436-20f2-4d07-954e-1c3c511d9dc1",
   "metadata": {},
   "outputs": [],
   "source": [
    "# conversation_buf.invoke({\n",
    "#     \"input\": question\n",
    "# })"
   ]
  },
  {
   "cell_type": "code",
   "execution_count": 40,
   "id": "ff04a46b-c1ab-4fb7-8993-1c55db3db15a",
   "metadata": {},
   "outputs": [
    {
     "data": {
      "text/plain": [
       "\"Human: How can students improve their English if students/parents would like to enhance their English skills?\\nAI: Improving students’ English skills is a top priority at BUV. Our dedicated English Department offers a variety of support services to help students enhance their language abilities. These services include English language courses, workshops, and tutoring sessions. Additionally, we provide access to online resources and language learning software to supplement classroom learning. Students and parents can also participate in English language immersion programs and cultural exchange activities to further improve their language skills.\\nHuman: how to receive it?\\nAI: To receive the support services offered by our English Department, students and parents can reach out to the department directly. They can inquire about English language courses, workshops, and tutoring sessions, and express their interest in participating. The department will provide information on the available options and guide students and parents through the registration process. Additionally, access to online resources and language learning software can be provided through the department's online platform or through designated accounts. Information about English language immersion programs and cultural exchange activities will be communicated to students and parents through announcements and newsletters.\""
      ]
     },
     "execution_count": 40,
     "metadata": {},
     "output_type": "execute_result"
    }
   ],
   "source": [
    "conversation_buf.memory.buffer"
   ]
  },
  {
   "cell_type": "code",
   "execution_count": 41,
   "id": "a164dda0-1214-4c15-9b68-296b4df8866f",
   "metadata": {},
   "outputs": [],
   "source": [
    "conversation_buf.memory.clear()"
   ]
  },
  {
   "cell_type": "code",
   "execution_count": 42,
   "id": "604d3a24-4c78-4dbe-a9b2-8beaf7907675",
   "metadata": {},
   "outputs": [
    {
     "data": {
      "text/plain": [
       "''"
      ]
     },
     "execution_count": 42,
     "metadata": {},
     "output_type": "execute_result"
    }
   ],
   "source": [
    "conversation_buf.memory.buffer"
   ]
  },
  {
   "cell_type": "code",
   "execution_count": 43,
   "id": "8ba27356-280d-446e-9bcf-8d958b24f5ce",
   "metadata": {},
   "outputs": [
    {
     "data": {
      "text/plain": [
       "'How can students improve their English if students/parents would like to enhance their English skills?'"
      ]
     },
     "execution_count": 43,
     "metadata": {},
     "output_type": "execute_result"
    }
   ],
   "source": [
    "question"
   ]
  },
  {
   "cell_type": "code",
   "execution_count": 44,
   "id": "95b504ff-6b8e-42d5-91f7-8a91f8b313b7",
   "metadata": {},
   "outputs": [
    {
     "data": {
      "text/plain": [
       "{'input': 'How can students improve their English if students/parents would like to enhance their English skills?',\n",
       " 'history': '',\n",
       " 'response': 'Improving students’ English skills is a top priority at BUV. Our dedicated English Department offers a variety of support services to help students enhance their language abilities. These services include English language courses, workshops, and tutoring sessions. Additionally, we provide access to online resources and language learning software to supplement classroom learning. Students and parents can also participate in English language immersion programs and cultural exchange activities to further improve their language skills.'}"
      ]
     },
     "execution_count": 44,
     "metadata": {},
     "output_type": "execute_result"
    }
   ],
   "source": [
    "conversation_buf.invoke({\n",
    "    \"input\": question\n",
    "})"
   ]
  },
  {
   "cell_type": "code",
   "execution_count": 45,
   "id": "ebb98b89-f79a-4094-bce7-0d14ad9539a2",
   "metadata": {},
   "outputs": [
    {
     "data": {
      "text/plain": [
       "'Human: How can students improve their English if students/parents would like to enhance their English skills?\\nAI: Improving students’ English skills is a top priority at BUV. Our dedicated English Department offers a variety of support services to help students enhance their language abilities. These services include English language courses, workshops, and tutoring sessions. Additionally, we provide access to online resources and language learning software to supplement classroom learning. Students and parents can also participate in English language immersion programs and cultural exchange activities to further improve their language skills.'"
      ]
     },
     "execution_count": 45,
     "metadata": {},
     "output_type": "execute_result"
    }
   ],
   "source": [
    "conversation_buf.memory.buffer"
   ]
  },
  {
   "cell_type": "code",
   "execution_count": null,
   "id": "90375140-fad3-4307-897e-519fea4c3918",
   "metadata": {},
   "outputs": [],
   "source": []
  },
  {
   "cell_type": "code",
   "execution_count": null,
   "id": "2e418447-3747-4e1c-988d-ccff0dbc8e86",
   "metadata": {},
   "outputs": [],
   "source": []
  },
  {
   "cell_type": "code",
   "execution_count": null,
   "id": "1a9f29fc-7f8f-4464-9661-21a3e9570446",
   "metadata": {},
   "outputs": [],
   "source": []
  },
  {
   "cell_type": "code",
   "execution_count": null,
   "id": "90308b37-9981-4e83-8022-4f84a04e20af",
   "metadata": {},
   "outputs": [],
   "source": []
  },
  {
   "cell_type": "code",
   "execution_count": null,
   "id": "0b56c884-454f-4fc6-a157-22b3e3b6f303",
   "metadata": {},
   "outputs": [],
   "source": []
  }
 ],
 "metadata": {
  "kernelspec": {
   "display_name": "Python 3 (ipykernel)",
   "language": "python",
   "name": "python3"
  },
  "language_info": {
   "codemirror_mode": {
    "name": "ipython",
    "version": 3
   },
   "file_extension": ".py",
   "mimetype": "text/x-python",
   "name": "python",
   "nbconvert_exporter": "python",
   "pygments_lexer": "ipython3",
   "version": "3.11.9"
  }
 },
 "nbformat": 4,
 "nbformat_minor": 5
}
